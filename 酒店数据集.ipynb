{
 "cells": [
  {
   "cell_type": "code",
   "execution_count": 1,
   "id": "a28bf406-7f02-4d62-9fae-a26c4aacec16",
   "metadata": {},
   "outputs": [],
   "source": [
    "import numpy as np\n",
    "import pandas as pd"
   ]
  },
  {
   "cell_type": "code",
   "execution_count": 2,
   "id": "66b608de-5eac-4189-9efa-370fa19b1f15",
   "metadata": {},
   "outputs": [],
   "source": [
    "#导入数据集\n",
    "url1 = 'G:\\DownLoad\\data\\hotel.csv'\n",
    "df_hotel = pd.read_csv(url1)\n",
    "\n",
    "url2 = 'G:\\DownLoad\\data\\customer.csv'\n",
    "df_customer = pd.read_csv(url2)"
   ]
  },
  {
   "cell_type": "code",
   "execution_count": 3,
   "id": "b0a0b392-2add-47d0-bc36-0f9efc3f3360",
   "metadata": {},
   "outputs": [],
   "source": [
    "#将df_hotel的'is_business'中的'TRUE'和'FALSE'分别转换为0和1\n",
    "df_hotel['is_business'] = df_hotel['is_business'].replace('TRUE',0)\n",
    "df_hotel['is_business'] = df_hotel['is_business'].replace('FALSE',1)\n",
    "df_hotel['is_business'] = df_hotel['is_business'].astype(np.int8)\n",
    "\n",
    "#将df_customer的'sex'中的'man'和'woman'分别转换为0和1\n",
    "df_customer['sex'] = df_customer['sex'].replace('man',0)\n",
    "df_customer['sex'] = df_customer['sex'].replace('woman',1)\n",
    "df_customer['sex'] = df_customer['sex'].astype(np.int8)"
   ]
  },
  {
   "cell_type": "code",
   "execution_count": 4,
   "id": "3864e54a-5507-4e61-8512-1cfa45fbf7d5",
   "metadata": {
    "tags": []
   },
   "outputs": [
    {
     "data": {
      "text/html": [
       "<div>\n",
       "<style scoped>\n",
       "    .dataframe tbody tr th:only-of-type {\n",
       "        vertical-align: middle;\n",
       "    }\n",
       "\n",
       "    .dataframe tbody tr th {\n",
       "        vertical-align: top;\n",
       "    }\n",
       "\n",
       "    .dataframe thead th {\n",
       "        text-align: right;\n",
       "    }\n",
       "</style>\n",
       "<table border=\"1\" class=\"dataframe\">\n",
       "  <thead>\n",
       "    <tr style=\"text-align: right;\">\n",
       "      <th></th>\n",
       "      <th>age</th>\n",
       "      <th>sex</th>\n",
       "      <th>home_latitude</th>\n",
       "      <th>home_longitude</th>\n",
       "    </tr>\n",
       "  </thead>\n",
       "  <tbody>\n",
       "    <tr>\n",
       "      <th>0</th>\n",
       "      <td>41</td>\n",
       "      <td>0</td>\n",
       "      <td>35.092193</td>\n",
       "      <td>136.512347</td>\n",
       "    </tr>\n",
       "    <tr>\n",
       "      <th>1</th>\n",
       "      <td>38</td>\n",
       "      <td>0</td>\n",
       "      <td>35.325076</td>\n",
       "      <td>139.410551</td>\n",
       "    </tr>\n",
       "    <tr>\n",
       "      <th>2</th>\n",
       "      <td>49</td>\n",
       "      <td>1</td>\n",
       "      <td>35.120543</td>\n",
       "      <td>136.511179</td>\n",
       "    </tr>\n",
       "    <tr>\n",
       "      <th>3</th>\n",
       "      <td>43</td>\n",
       "      <td>0</td>\n",
       "      <td>43.034868</td>\n",
       "      <td>141.240314</td>\n",
       "    </tr>\n",
       "    <tr>\n",
       "      <th>4</th>\n",
       "      <td>31</td>\n",
       "      <td>0</td>\n",
       "      <td>35.102661</td>\n",
       "      <td>136.523797</td>\n",
       "    </tr>\n",
       "    <tr>\n",
       "      <th>...</th>\n",
       "      <td>...</td>\n",
       "      <td>...</td>\n",
       "      <td>...</td>\n",
       "      <td>...</td>\n",
       "    </tr>\n",
       "    <tr>\n",
       "      <th>995</th>\n",
       "      <td>44</td>\n",
       "      <td>0</td>\n",
       "      <td>34.465648</td>\n",
       "      <td>135.373787</td>\n",
       "    </tr>\n",
       "    <tr>\n",
       "      <th>996</th>\n",
       "      <td>35</td>\n",
       "      <td>0</td>\n",
       "      <td>35.345372</td>\n",
       "      <td>139.413754</td>\n",
       "    </tr>\n",
       "    <tr>\n",
       "      <th>997</th>\n",
       "      <td>32</td>\n",
       "      <td>1</td>\n",
       "      <td>43.062267</td>\n",
       "      <td>141.272126</td>\n",
       "    </tr>\n",
       "    <tr>\n",
       "      <th>998</th>\n",
       "      <td>48</td>\n",
       "      <td>1</td>\n",
       "      <td>38.172800</td>\n",
       "      <td>140.464198</td>\n",
       "    </tr>\n",
       "    <tr>\n",
       "      <th>999</th>\n",
       "      <td>39</td>\n",
       "      <td>0</td>\n",
       "      <td>35.452412</td>\n",
       "      <td>139.411310</td>\n",
       "    </tr>\n",
       "  </tbody>\n",
       "</table>\n",
       "<p>1000 rows × 4 columns</p>\n",
       "</div>"
      ],
      "text/plain": [
       "     age  sex  home_latitude  home_longitude\n",
       "0     41    0      35.092193      136.512347\n",
       "1     38    0      35.325076      139.410551\n",
       "2     49    1      35.120543      136.511179\n",
       "3     43    0      43.034868      141.240314\n",
       "4     31    0      35.102661      136.523797\n",
       "..   ...  ...            ...             ...\n",
       "995   44    0      34.465648      135.373787\n",
       "996   35    0      35.345372      139.413754\n",
       "997   32    1      43.062267      141.272126\n",
       "998   48    1      38.172800      140.464198\n",
       "999   39    0      35.452412      139.411310\n",
       "\n",
       "[1000 rows x 4 columns]"
      ]
     },
     "execution_count": 4,
     "metadata": {},
     "output_type": "execute_result"
    }
   ],
   "source": [
    "#删除df_hotel不需要的'hotel_id'、'big_area_name'、'small_area_name'三列\n",
    "df_hotel.drop(['hotel_id','big_area_name','small_area_name'], axis=1)\n",
    "#删除df_customer不需要的'customer_id'\n",
    "df_customer.drop('customer_id', axis=1)"
   ]
  },
  {
   "cell_type": "code",
   "execution_count": 5,
   "id": "82743428-f366-4998-b97c-3c18091e21f4",
   "metadata": {
    "tags": []
   },
   "outputs": [
    {
     "name": "stdout",
     "output_type": "stream",
     "text": [
      "df_hotel的数据统计量：\n",
      "         base_price  hotel_latitude  hotel_longitude  is_business\n",
      "count    300.000000      300.000000       300.000000   300.000000\n",
      "mean   20197.666667       36.672407       138.437448     0.456667\n",
      "std    15270.012185        2.475990         3.450787     0.498951\n",
      "min     3500.000000       33.491110       130.529900     0.000000\n",
      "25%     9300.000000       35.285222       136.985115     0.000000\n",
      "50%    15600.000000       35.716535       139.800617     0.000000\n",
      "75%    25125.000000       38.328767       140.793411     1.000000\n",
      "max    74800.000000       43.165512       141.515930     1.000000 \n",
      "\n",
      "df_customer的数据统计量：\n",
      "              age          sex  home_latitude  home_longitude\n",
      "count  1000.00000  1000.000000    1000.000000     1000.000000\n",
      "mean     51.27500     0.482000      36.301492      137.101549\n",
      "std      14.76548     0.499926       3.024908        3.590634\n",
      "min      21.00000     0.000000      33.264641      130.290768\n",
      "25%      39.00000     0.000000      34.444472      135.373918\n",
      "50%      49.00000     0.000000      35.294221      139.390638\n",
      "75%      63.00000     1.000000      38.172066      140.450375\n",
      "max      89.00000     1.000000      43.063960      141.274039 \n",
      "\n"
     ]
    }
   ],
   "source": [
    "#观察df_hotel的数据统计量\n",
    "print('df_hotel的数据统计量：')\n",
    "print(df_hotel.describe(),'\\n')\n",
    "\n",
    "#观察df_customer的数据统计量\n",
    "print('df_customer的数据统计量：')\n",
    "print(df_customer.describe(),'\\n')"
   ]
  },
  {
   "cell_type": "code",
   "execution_count": 6,
   "id": "33558e52-1ba2-4bc6-bf60-1b0ea55dfe82",
   "metadata": {
    "tags": []
   },
   "outputs": [
    {
     "name": "stdout",
     "output_type": "stream",
     "text": [
      "customer_id       False\n",
      "age               False\n",
      "sex               False\n",
      "home_latitude     False\n",
      "home_longitude    False\n",
      "dtype: bool \n",
      "\n",
      "hotel_id           False\n",
      "base_price         False\n",
      "big_area_name      False\n",
      "small_area_name    False\n",
      "hotel_latitude     False\n",
      "hotel_longitude    False\n",
      "is_business        False\n",
      "dtype: bool \n",
      "\n"
     ]
    }
   ],
   "source": [
    "#查找缺失值\n",
    "print(df_customer.isnull().any(),'\\n')\n",
    "print(df_hotel.isnull().any(),'\\n')\n",
    "#全都为false，说明没有缺失值"
   ]
  },
  {
   "cell_type": "code",
   "execution_count": 7,
   "id": "fa8c56b7-1788-4fea-8dc6-caf4b236b26e",
   "metadata": {
    "tags": []
   },
   "outputs": [
    {
     "name": "stdout",
     "output_type": "stream",
     "text": [
      "酒店价格标准差法异常值上限检测：\n",
      " True\n",
      "酒店价格标准差法异常值下限检测：\n",
      " False\n"
     ]
    }
   ],
   "source": [
    "#标准差检测异常值\n",
    "\n",
    "#酒店价格\n",
    "xbar_price = df_hotel['base_price'].mean()\n",
    "xstd_price = df_hotel['base_price'].std()\n",
    "\n",
    "print('酒店价格标准差法异常值上限检测：\\n',any(df_hotel['base_price'] > xbar_price + 2.5*xstd_price))\n",
    "print('酒店价格标准差法异常值下限检测：\\n',any(df_hotel['base_price'] < xbar_price - 2.5*xstd_price))"
   ]
  },
  {
   "cell_type": "code",
   "execution_count": 8,
   "id": "4294a2bb-57ae-4ab9-b111-253d7ce2447c",
   "metadata": {},
   "outputs": [],
   "source": [
    "#显示异常值\n",
    "from scipy.stats import zscore"
   ]
  },
  {
   "cell_type": "code",
   "execution_count": 9,
   "id": "6bc79dcd-457c-467f-8776-d9681a2e29db",
   "metadata": {
    "tags": []
   },
   "outputs": [
    {
     "name": "stdout",
     "output_type": "stream",
     "text": [
      "酒店价格异常值有：\n"
     ]
    },
    {
     "data": {
      "text/plain": [
       "60     74800\n",
       "123    66600\n",
       "133    67600\n",
       "176    70100\n",
       "222    68500\n",
       "246    71200\n",
       "268    67600\n",
       "Name: base_price, dtype: int64"
      ]
     },
     "execution_count": 9,
     "metadata": {},
     "output_type": "execute_result"
    }
   ],
   "source": [
    "#酒店价格异常值\n",
    "print('酒店价格异常值有：')\n",
    "df_hotel['base_price'][np.abs(zscore(df_hotel['base_price']))>3]"
   ]
  },
  {
   "cell_type": "code",
   "execution_count": 10,
   "id": "adb6766d-8c6a-4213-88eb-defdb29a7c07",
   "metadata": {
    "tags": []
   },
   "outputs": [
    {
     "data": {
      "text/html": [
       "<div>\n",
       "<style scoped>\n",
       "    .dataframe tbody tr th:only-of-type {\n",
       "        vertical-align: middle;\n",
       "    }\n",
       "\n",
       "    .dataframe tbody tr th {\n",
       "        vertical-align: top;\n",
       "    }\n",
       "\n",
       "    .dataframe thead th {\n",
       "        text-align: right;\n",
       "    }\n",
       "</style>\n",
       "<table border=\"1\" class=\"dataframe\">\n",
       "  <thead>\n",
       "    <tr style=\"text-align: right;\">\n",
       "      <th></th>\n",
       "      <th>price</th>\n",
       "      <th>area</th>\n",
       "    </tr>\n",
       "  </thead>\n",
       "  <tbody>\n",
       "    <tr>\n",
       "      <th>0</th>\n",
       "      <td>26100</td>\n",
       "      <td>6094.127243</td>\n",
       "    </tr>\n",
       "    <tr>\n",
       "      <th>1</th>\n",
       "      <td>26400</td>\n",
       "      <td>4997.982069</td>\n",
       "    </tr>\n",
       "    <tr>\n",
       "      <th>2</th>\n",
       "      <td>41300</td>\n",
       "      <td>4833.171888</td>\n",
       "    </tr>\n",
       "    <tr>\n",
       "      <th>3</th>\n",
       "      <td>5200</td>\n",
       "      <td>5410.957541</td>\n",
       "    </tr>\n",
       "  </tbody>\n",
       "</table>\n",
       "</div>"
      ],
      "text/plain": [
       "   price         area\n",
       "0  26100  6094.127243\n",
       "1  26400  4997.982069\n",
       "2  41300  4833.171888\n",
       "3   5200  5410.957541"
      ]
     },
     "execution_count": 10,
     "metadata": {},
     "output_type": "execute_result"
    }
   ],
   "source": [
    "#创建一个新的数据集，用面积area表示latitude和longitude\n",
    "hotel = pd.DataFrame()\n",
    "\n",
    "hotel['price'] = df_hotel['base_price'].copy()\n",
    "hotel['area'] = df_hotel['hotel_latitude']*df_hotel['hotel_longitude']\n",
    "\n",
    "hotel.head(4)"
   ]
  },
  {
   "cell_type": "code",
   "execution_count": 11,
   "id": "358eb5c1-5daf-4178-9c8c-774e16ce48ef",
   "metadata": {},
   "outputs": [],
   "source": [
    "#数据规整化\n",
    "import matplotlib.pyplot as plt\n",
    "from sklearn.preprocessing import MinMaxScaler,StandardScaler,MaxAbsScaler,RobustScaler"
   ]
  },
  {
   "cell_type": "code",
   "execution_count": 12,
   "id": "a4533e67-a81a-4d36-bafe-b50a2ea8a83e",
   "metadata": {
    "tags": []
   },
   "outputs": [
    {
     "data": {
      "text/html": [
       "<div>\n",
       "<style scoped>\n",
       "    .dataframe tbody tr th:only-of-type {\n",
       "        vertical-align: middle;\n",
       "    }\n",
       "\n",
       "    .dataframe tbody tr th {\n",
       "        vertical-align: top;\n",
       "    }\n",
       "\n",
       "    .dataframe thead th {\n",
       "        text-align: right;\n",
       "    }\n",
       "</style>\n",
       "<table border=\"1\" class=\"dataframe\">\n",
       "  <thead>\n",
       "    <tr style=\"text-align: right;\">\n",
       "      <th></th>\n",
       "      <th>0</th>\n",
       "      <th>1</th>\n",
       "    </tr>\n",
       "  </thead>\n",
       "  <tbody>\n",
       "    <tr>\n",
       "      <th>0</th>\n",
       "      <td>0.316971</td>\n",
       "      <td>0.991852</td>\n",
       "    </tr>\n",
       "    <tr>\n",
       "      <th>1</th>\n",
       "      <td>0.321178</td>\n",
       "      <td>0.360605</td>\n",
       "    </tr>\n",
       "    <tr>\n",
       "      <th>2</th>\n",
       "      <td>0.530154</td>\n",
       "      <td>0.265694</td>\n",
       "    </tr>\n",
       "    <tr>\n",
       "      <th>3</th>\n",
       "      <td>0.023843</td>\n",
       "      <td>0.598429</td>\n",
       "    </tr>\n",
       "    <tr>\n",
       "      <th>4</th>\n",
       "      <td>0.140252</td>\n",
       "      <td>0.007938</td>\n",
       "    </tr>\n",
       "  </tbody>\n",
       "</table>\n",
       "</div>"
      ],
      "text/plain": [
       "          0         1\n",
       "0  0.316971  0.991852\n",
       "1  0.321178  0.360605\n",
       "2  0.530154  0.265694\n",
       "3  0.023843  0.598429\n",
       "4  0.140252  0.007938"
      ]
     },
     "execution_count": 12,
     "metadata": {},
     "output_type": "execute_result"
    }
   ],
   "source": [
    "#Max-Min标准化方法\n",
    "minmax_scaler = MinMaxScaler()\n",
    "hotel_scale_1 = minmax_scaler.fit_transform(hotel)\n",
    "hotel_scale_1_df = pd.DataFrame(hotel_scale_1)\n",
    "hotel_scale_1_df.head()"
   ]
  },
  {
   "cell_type": "code",
   "execution_count": 13,
   "id": "50f5ce55-bc00-4472-b570-8ae13029c58f",
   "metadata": {
    "tags": []
   },
   "outputs": [
    {
     "data": {
      "text/html": [
       "<div>\n",
       "<style scoped>\n",
       "    .dataframe tbody tr th:only-of-type {\n",
       "        vertical-align: middle;\n",
       "    }\n",
       "\n",
       "    .dataframe tbody tr th {\n",
       "        vertical-align: top;\n",
       "    }\n",
       "\n",
       "    .dataframe thead th {\n",
       "        text-align: right;\n",
       "    }\n",
       "</style>\n",
       "<table border=\"1\" class=\"dataframe\">\n",
       "  <thead>\n",
       "    <tr style=\"text-align: right;\">\n",
       "      <th></th>\n",
       "      <th>0</th>\n",
       "      <th>1</th>\n",
       "    </tr>\n",
       "  </thead>\n",
       "  <tbody>\n",
       "    <tr>\n",
       "      <th>0</th>\n",
       "      <td>0.387177</td>\n",
       "      <td>2.317638</td>\n",
       "    </tr>\n",
       "    <tr>\n",
       "      <th>1</th>\n",
       "      <td>0.406856</td>\n",
       "      <td>-0.193664</td>\n",
       "    </tr>\n",
       "    <tr>\n",
       "      <th>2</th>\n",
       "      <td>1.384255</td>\n",
       "      <td>-0.571249</td>\n",
       "    </tr>\n",
       "    <tr>\n",
       "      <th>3</th>\n",
       "      <td>-0.983806</td>\n",
       "      <td>0.752476</td>\n",
       "    </tr>\n",
       "    <tr>\n",
       "      <th>4</th>\n",
       "      <td>-0.439349</td>\n",
       "      <td>-1.596685</td>\n",
       "    </tr>\n",
       "  </tbody>\n",
       "</table>\n",
       "</div>"
      ],
      "text/plain": [
       "          0         1\n",
       "0  0.387177  2.317638\n",
       "1  0.406856 -0.193664\n",
       "2  1.384255 -0.571249\n",
       "3 -0.983806  0.752476\n",
       "4 -0.439349 -1.596685"
      ]
     },
     "execution_count": 13,
     "metadata": {},
     "output_type": "execute_result"
    }
   ],
   "source": [
    "#Z-Score标准化\n",
    "zscore_scaler = StandardScaler()\n",
    "hotel_scale_3 = zscore_scaler.fit_transform(hotel)\n",
    "hotel_scale_3_df = pd.DataFrame(hotel_scale_3)\n",
    "hotel_scale_3_df.head()"
   ]
  },
  {
   "cell_type": "code",
   "execution_count": 14,
   "id": "3d182912-749e-443d-a2ad-e8aeccc9f925",
   "metadata": {
    "tags": []
   },
   "outputs": [
    {
     "data": {
      "text/html": [
       "<div>\n",
       "<style scoped>\n",
       "    .dataframe tbody tr th:only-of-type {\n",
       "        vertical-align: middle;\n",
       "    }\n",
       "\n",
       "    .dataframe tbody tr th {\n",
       "        vertical-align: top;\n",
       "    }\n",
       "\n",
       "    .dataframe thead th {\n",
       "        text-align: right;\n",
       "    }\n",
       "</style>\n",
       "<table border=\"1\" class=\"dataframe\">\n",
       "  <thead>\n",
       "    <tr style=\"text-align: right;\">\n",
       "      <th></th>\n",
       "      <th>0</th>\n",
       "      <th>1</th>\n",
       "    </tr>\n",
       "  </thead>\n",
       "  <tbody>\n",
       "    <tr>\n",
       "      <th>0</th>\n",
       "      <td>0.348930</td>\n",
       "      <td>0.997684</td>\n",
       "    </tr>\n",
       "    <tr>\n",
       "      <th>1</th>\n",
       "      <td>0.352941</td>\n",
       "      <td>0.818231</td>\n",
       "    </tr>\n",
       "    <tr>\n",
       "      <th>2</th>\n",
       "      <td>0.552139</td>\n",
       "      <td>0.791250</td>\n",
       "    </tr>\n",
       "    <tr>\n",
       "      <th>3</th>\n",
       "      <td>0.069519</td>\n",
       "      <td>0.885840</td>\n",
       "    </tr>\n",
       "    <tr>\n",
       "      <th>4</th>\n",
       "      <td>0.180481</td>\n",
       "      <td>0.717974</td>\n",
       "    </tr>\n",
       "  </tbody>\n",
       "</table>\n",
       "</div>"
      ],
      "text/plain": [
       "          0         1\n",
       "0  0.348930  0.997684\n",
       "1  0.352941  0.818231\n",
       "2  0.552139  0.791250\n",
       "3  0.069519  0.885840\n",
       "4  0.180481  0.717974"
      ]
     },
     "execution_count": 14,
     "metadata": {},
     "output_type": "execute_result"
    }
   ],
   "source": [
    "#MaxAbs标准化\n",
    "maxabsscaler = MaxAbsScaler()\n",
    "hotel_scale_5 = maxabsscaler.fit_transform(hotel)\n",
    "hotel_scale_5_df = pd.DataFrame(hotel_scale_5)\n",
    "hotel_scale_5_df.head()"
   ]
  },
  {
   "cell_type": "code",
   "execution_count": 15,
   "id": "f39a513d-6038-424a-a3a6-6133ff799da8",
   "metadata": {
    "tags": []
   },
   "outputs": [
    {
     "data": {
      "text/html": [
       "<div>\n",
       "<style scoped>\n",
       "    .dataframe tbody tr th:only-of-type {\n",
       "        vertical-align: middle;\n",
       "    }\n",
       "\n",
       "    .dataframe tbody tr th {\n",
       "        vertical-align: top;\n",
       "    }\n",
       "\n",
       "    .dataframe thead th {\n",
       "        text-align: right;\n",
       "    }\n",
       "</style>\n",
       "<table border=\"1\" class=\"dataframe\">\n",
       "  <thead>\n",
       "    <tr style=\"text-align: right;\">\n",
       "      <th></th>\n",
       "      <th>0</th>\n",
       "      <th>1</th>\n",
       "    </tr>\n",
       "  </thead>\n",
       "  <tbody>\n",
       "    <tr>\n",
       "      <th>0</th>\n",
       "      <td>0.663507</td>\n",
       "      <td>1.960282</td>\n",
       "    </tr>\n",
       "    <tr>\n",
       "      <th>1</th>\n",
       "      <td>0.682464</td>\n",
       "      <td>0.001271</td>\n",
       "    </tr>\n",
       "    <tr>\n",
       "      <th>2</th>\n",
       "      <td>1.624013</td>\n",
       "      <td>-0.293275</td>\n",
       "    </tr>\n",
       "    <tr>\n",
       "      <th>3</th>\n",
       "      <td>-0.657188</td>\n",
       "      <td>0.739333</td>\n",
       "    </tr>\n",
       "    <tr>\n",
       "      <th>4</th>\n",
       "      <td>-0.132701</td>\n",
       "      <td>-1.093196</td>\n",
       "    </tr>\n",
       "  </tbody>\n",
       "</table>\n",
       "</div>"
      ],
      "text/plain": [
       "          0         1\n",
       "0  0.663507  1.960282\n",
       "1  0.682464  0.001271\n",
       "2  1.624013 -0.293275\n",
       "3 -0.657188  0.739333\n",
       "4 -0.132701 -1.093196"
      ]
     },
     "execution_count": 15,
     "metadata": {},
     "output_type": "execute_result"
    }
   ],
   "source": [
    "#RobustScaler标准化\n",
    "robustscaler = RobustScaler()\n",
    "hotel_scale_6 = robustscaler.fit_transform(hotel)\n",
    "hotel_scale_6_df = pd.DataFrame(hotel_scale_6)\n",
    "hotel_scale_6_df.head()"
   ]
  },
  {
   "cell_type": "code",
   "execution_count": 16,
   "id": "6f0a5f6e-e513-4056-9ac5-4018afb3b4dc",
   "metadata": {
    "tags": []
   },
   "outputs": [
    {
     "data": {
      "text/plain": [
       "'\\n标准化方法选择:\\n    1.如果要做中心化处理，并且对数据分布有正态要求，那么使用Z-Score方法\\n    2.如果要进行0-1标准化或者将要指定标准化后的数据分布范围，那么使用Max-Min标准化或MaxAbs标准化方式是比较好的方法，尤其是前者。\\n    3.如果要对稀疏数据进行处理，Max-Min标准化或者MaxAbs标准化是理想方法\\n    4.如果要最大限度保留数据集中的异常，那么使用RobustScaler方法更好\\n'"
      ]
     },
     "execution_count": 16,
     "metadata": {},
     "output_type": "execute_result"
    }
   ],
   "source": [
    "'''\n",
    "标准化方法选择:\n",
    "    1.如果要做中心化处理，并且对数据分布有正态要求，那么使用Z-Score方法\n",
    "    2.如果要进行0-1标准化或者将要指定标准化后的数据分布范围，那么使用Max-Min标准化或MaxAbs标准化方式是比较好的方法，尤其是前者。\n",
    "    3.如果要对稀疏数据进行处理，Max-Min标准化或者MaxAbs标准化是理想方法\n",
    "    4.如果要最大限度保留数据集中的异常，那么使用RobustScaler方法更好\n",
    "'''"
   ]
  },
  {
   "cell_type": "code",
   "execution_count": 17,
   "id": "2a6f3c81-b144-4a44-8fc0-f610f3409d31",
   "metadata": {
    "tags": []
   },
   "outputs": [
    {
     "data": {
      "text/plain": [
       "Text(0, 0.5, 'area')"
      ]
     },
     "execution_count": 17,
     "metadata": {},
     "output_type": "execute_result"
    },
    {
     "data": {
      "image/png": "[encoded data removed]",
      "text/plain": [
       "<Figure size 432x288 with 1 Axes>"
      ]
     },
     "metadata": {
      "needs_background": "light"
     },
     "output_type": "display_data"
    }
   ],
   "source": [
    "colors = np.random.rand(len(hotel['price']))  # 颜色数组\n",
    "plt.scatter(hotel['price'], hotel['area'], s=200, c=colors)  # 画散点图，\n",
    "plt.xlabel('price')  # 横坐标轴标题\n",
    "plt.ylabel('area')  # 纵坐标轴标题"
   ]
  },
  {
   "cell_type": "code",
   "execution_count": 18,
   "id": "62794d70-95e6-4fcd-8181-3368516d2284",
   "metadata": {
    "tags": []
   },
   "outputs": [
    {
     "data": {
      "image/png": "[encoded data removed]",
      "text/plain": [
       "<Figure size 1152x216 with 4 Axes>"
      ]
     },
     "metadata": {
      "needs_background": "light"
     },
     "output_type": "display_data"
    }
   ],
   "source": [
    "#标准化后数据可视化\n",
    "data_list = [hotel_scale_1, hotel_scale_3, hotel_scale_5, hotel_scale_6]  # 创建数据集列表\n",
    "color_list = ['green', 'blue', 'yellow', 'red']  # 创建颜色列表\n",
    "merker_list = [',', '+', 's', 'p']  # 创建样式列表\n",
    "title_list = ['minmax_scaler', 'zscore_scaler', 'maxabsscaler_scaler','robustscalerr_scaler']  # 创建标题列表\n",
    "              \n",
    "plt.figure(figsize=(16, 3))\n",
    "for i, data_single in enumerate(data_list):  # 循环得到索引和每个数值\n",
    "    plt.subplot(1, 4, i + 1)  # 确定子网格\n",
    "    plt.scatter(data_single[:, :-1], data_single[:, -1], s=10, marker=merker_list[i],c=color_list[i])  # 自网格展示散点图\n",
    "    plt.title(title_list[i])  # 设置自网格标题"
   ]
  },
  {
   "cell_type": "code",
   "execution_count": 21,
   "id": "433a12ac-60cc-45d7-9a5f-cda897d39742",
   "metadata": {
    "collapsed": true,
    "jupyter": {
     "outputs_hidden": true
    },
    "tags": []
   },
   "outputs": [
    {
     "name": "stdout",
     "output_type": "stream",
     "text": [
      "[0.50412153]\n",
      "[[ 1.91259302e+00]\n",
      " [ 1.50749721e-01]\n",
      " [ 5.74882223e-01]\n",
      " [-1.63575091e-01]\n",
      " [-1.43969317e+00]\n",
      " [ 1.25487638e+00]\n",
      " [ 4.54658452e-01]\n",
      " [-5.45725157e-01]\n",
      " [ 1.00639443e+00]\n",
      " [-7.69521395e-01]\n",
      " [-3.52271103e-01]\n",
      " [-1.16172899e-01]\n",
      " [-1.52105136e+00]\n",
      " [ 1.05111280e+00]\n",
      " [-1.14108177e+00]\n",
      " [ 2.31746872e-02]\n",
      " [-4.00720262e-01]\n",
      " [-7.98613534e-01]\n",
      " [-5.24659329e-01]\n",
      " [-8.04361217e-02]\n",
      " [-8.49950353e-01]\n",
      " [ 1.21405639e+00]\n",
      " [ 1.87560991e+00]\n",
      " [-1.15445112e+00]\n",
      " [-5.94955798e-01]\n",
      " [ 1.89362633e+00]\n",
      " [ 1.56088429e+00]\n",
      " [-8.63635041e-01]\n",
      " [-1.18594463e-02]\n",
      " [-7.22786022e-01]\n",
      " [ 3.61570654e-01]\n",
      " [-3.78093794e-01]\n",
      " [-9.91650846e-01]\n",
      " [-7.33489231e-01]\n",
      " [-9.01823272e-01]\n",
      " [ 3.69947367e-01]\n",
      " [ 3.71145851e-02]\n",
      " [ 2.15460613e+00]\n",
      " [-1.13081690e+00]\n",
      " [ 1.13104280e+00]\n",
      " [-8.53667952e-01]\n",
      " [-5.61551774e-01]\n",
      " [-3.05372549e-01]\n",
      " [-9.22322953e-01]\n",
      " [ 1.18112544e+00]\n",
      " [-1.77513840e-01]\n",
      " [-5.72622332e-01]\n",
      " [ 1.68164424e+00]\n",
      " [-4.22263578e-01]\n",
      " [-1.89651785e-01]\n",
      " [ 1.99602241e-01]\n",
      " [ 1.06483180e-01]\n",
      " [-1.88939557e+00]\n",
      " [-7.68431583e-01]\n",
      " [-1.40783877e+00]\n",
      " [ 1.08227335e+00]\n",
      " [-1.86457392e-01]\n",
      " [-1.77888048e-01]\n",
      " [ 7.05891704e-01]\n",
      " [ 1.21609229e-01]\n",
      " [ 1.71585582e+00]\n",
      " [ 8.23881313e-01]\n",
      " [-4.64090641e-01]\n",
      " [-3.62735101e-01]\n",
      " [-3.14224513e-02]\n",
      " [ 2.36718939e-01]\n",
      " [-2.62434090e-01]\n",
      " [-1.68243187e+00]\n",
      " [-5.90532182e-01]\n",
      " [-1.37678986e+00]\n",
      " [-2.73509312e-01]\n",
      " [-6.82085986e-01]\n",
      " [-1.88052500e-01]\n",
      " [-8.29310403e-01]\n",
      " [-7.50217434e-01]\n",
      " [ 2.31472930e-02]\n",
      " [ 2.77506954e+00]\n",
      " [-1.26374091e+00]\n",
      " [ 1.63007180e+00]\n",
      " [ 5.51834857e-01]\n",
      " [-7.88480615e-01]\n",
      " [ 1.46530509e-01]\n",
      " [ 1.83400749e+00]\n",
      " [ 2.77825770e-02]\n",
      " [ 1.69247303e+00]\n",
      " [-6.57058411e-02]\n",
      " [-1.44422921e+00]\n",
      " [-6.05336935e-01]\n",
      " [-6.56328467e-01]\n",
      " [-6.57685505e-01]\n",
      " [ 2.85167750e+00]\n",
      " [ 2.55178328e-01]\n",
      " [ 3.32931958e-02]\n",
      " [-3.36427579e-01]\n",
      " [ 2.66339923e-01]\n",
      " [-1.06512455e-01]\n",
      " [ 5.36858999e-01]\n",
      " [-2.08903469e-01]\n",
      " [ 6.12021296e-01]\n",
      " [-8.06538615e-01]\n",
      " [-4.31409769e-01]\n",
      " [-8.21259378e-01]\n",
      " [ 1.44516567e+00]\n",
      " [ 8.75945087e-01]\n",
      " [-8.91023278e-01]\n",
      " [-7.24543025e-01]\n",
      " [ 4.74963584e-01]\n",
      " [-1.68773517e+00]\n",
      " [ 1.18207190e+00]\n",
      " [ 1.71787187e-01]\n",
      " [ 1.57171008e+00]\n",
      " [ 6.74876480e-01]\n",
      " [-1.40388226e-01]\n",
      " [ 4.57780659e-01]\n",
      " [ 7.91959200e-01]\n",
      " [-1.46124190e+00]\n",
      " [-3.53369143e-01]\n",
      " [-1.58176747e+00]\n",
      " [ 1.00059582e+00]\n",
      " [-5.43094093e-02]\n",
      " [-6.50143916e-02]\n",
      " [-1.32122107e-01]\n",
      " [-1.73502982e-01]\n",
      " [ 3.81214633e+00]\n",
      " [ 1.20194988e+00]\n",
      " [-2.12788674e-01]\n",
      " [ 2.64795189e+00]\n",
      " [-1.31076501e+00]\n",
      " [ 1.07190555e+00]\n",
      " [ 6.31803366e-02]\n",
      " [-6.95353096e-01]\n",
      " [ 4.96075275e-01]\n",
      " [-4.50948347e-01]\n",
      " [ 1.76772307e+00]\n",
      " [-5.61101342e-01]\n",
      " [-1.38502982e-01]\n",
      " [-1.47101495e+00]\n",
      " [ 5.94058538e-04]\n",
      " [-3.30528040e-01]\n",
      " [-6.81589123e-01]\n",
      " [-5.25741693e-01]\n",
      " [ 2.04220450e-02]\n",
      " [ 5.13992489e-01]\n",
      " [-6.16744236e-01]\n",
      " [ 4.74689108e-01]\n",
      " [-8.95596420e-02]\n",
      " [ 1.72474007e-01]\n",
      " [-8.85543760e-01]\n",
      " [-5.49881101e-01]\n",
      " [ 4.26032853e-02]\n",
      " [ 5.84970334e-01]\n",
      " [-2.90586382e-01]\n",
      " [-4.51095811e-01]\n",
      " [-6.83321978e-01]\n",
      " [-9.63275671e-01]\n",
      " [-2.78587954e-01]\n",
      " [ 5.76708186e-01]\n",
      " [ 4.93464115e-02]\n",
      " [ 1.94946801e+00]\n",
      " [ 1.77637283e-01]\n",
      " [ 9.89342735e-01]\n",
      " [-5.47402665e-01]\n",
      " [-7.67222220e-01]\n",
      " [-7.73378579e-01]\n",
      " [-9.07332940e-01]\n",
      " [-1.31767362e+00]\n",
      " [-5.13496967e-02]\n",
      " [-1.12107660e+00]\n",
      " [-1.36519255e+00]\n",
      " [ 6.94870241e-01]\n",
      " [ 7.84568424e-01]\n",
      " [-1.01781594e+00]\n",
      " [-2.04338253e-01]\n",
      " [-7.38106628e-01]\n",
      " [ 4.59985157e-01]\n",
      " [-3.42375273e-01]\n",
      " [ 2.85383661e+00]\n",
      " [-1.24218828e-01]\n",
      " [-1.80022177e+00]\n",
      " [ 2.07775225e+00]\n",
      " [-6.96168086e-01]\n",
      " [ 2.97331279e-01]\n",
      " [-1.60168274e+00]\n",
      " [-1.18888119e-01]\n",
      " [-1.64158330e+00]\n",
      " [-6.78042099e-02]\n",
      " [ 4.28752038e-01]\n",
      " [ 6.85892444e-01]\n",
      " [-7.49277377e-01]\n",
      " [-1.69464566e+00]\n",
      " [-1.71260833e-01]\n",
      " [ 2.91130025e-01]\n",
      " [ 1.60299233e+00]\n",
      " [ 8.19657650e-03]\n",
      " [ 1.29852552e+00]\n",
      " [ 1.79186126e+00]\n",
      " [-2.47064471e-01]\n",
      " [-8.38163608e-01]\n",
      " [-3.11339788e-01]\n",
      " [-7.38174639e-01]\n",
      " [-6.96321490e-01]\n",
      " [ 2.28435556e-01]\n",
      " [ 2.36268111e-01]\n",
      " [-5.25061743e-01]\n",
      " [-7.69730144e-01]\n",
      " [-6.30831869e-01]\n",
      " [-6.72380731e-01]\n",
      " [-9.27395782e-01]\n",
      " [-3.00880229e-01]\n",
      " [-5.78268121e-01]\n",
      " [-1.25223178e+00]\n",
      " [-4.85887461e-01]\n",
      " [-8.63979293e-01]\n",
      " [ 1.82707438e+00]\n",
      " [-3.70665885e-01]\n",
      " [-1.80186308e-01]\n",
      " [-5.92043219e-01]\n",
      " [ 1.69721650e+00]\n",
      " [-6.26248380e-01]\n",
      " [-1.18361840e+00]\n",
      " [ 9.71610929e-01]\n",
      " [ 4.83176545e-01]\n",
      " [ 2.74318797e+00]\n",
      " [-1.56777491e+00]\n",
      " [-1.73271327e+00]\n",
      " [-1.29364210e+00]\n",
      " [-7.12667981e-01]\n",
      " [-7.98929548e-01]\n",
      " [-1.02557588e+00]\n",
      " [-2.97097721e-01]\n",
      " [-3.57439337e-01]\n",
      " [ 8.87811549e-01]\n",
      " [-7.07591613e-01]\n",
      " [-1.82744647e+00]\n",
      " [-2.10075262e-01]\n",
      " [-4.31869202e-01]\n",
      " [ 2.74599047e-02]\n",
      " [-1.41191380e-02]\n",
      " [ 1.56443726e+00]\n",
      " [ 8.10867194e-01]\n",
      " [-7.78624045e-01]\n",
      " [-6.44607052e-01]\n",
      " [ 2.10353573e-01]\n",
      " [-6.94974984e-01]\n",
      " [ 2.06870496e-01]\n",
      " [ 1.34430394e+00]\n",
      " [ 2.84709793e+00]\n",
      " [-2.66400757e-01]\n",
      " [ 5.21699380e-01]\n",
      " [ 5.25174270e-02]\n",
      " [-1.45326125e-01]\n",
      " [ 6.32201910e-01]\n",
      " [-1.69986087e-01]\n",
      " [-7.97086448e-01]\n",
      " [ 7.06037389e-01]\n",
      " [ 1.14507217e+00]\n",
      " [-8.61655374e-02]\n",
      " [-1.02487591e+00]\n",
      " [ 2.28107409e+00]\n",
      " [ 8.16181299e-01]\n",
      " [ 1.17949423e+00]\n",
      " [ 4.71061251e-01]\n",
      " [ 1.77898160e+00]\n",
      " [-7.54463125e-01]\n",
      " [ 1.57966076e+00]\n",
      " [-5.95893686e-01]\n",
      " [-6.07887907e-01]\n",
      " [-2.03778518e-01]\n",
      " [ 2.08443446e+00]\n",
      " [-1.68140880e+00]\n",
      " [-1.33400774e+00]\n",
      " [ 9.12719945e-01]\n",
      " [ 1.03029010e+00]\n",
      " [ 1.45291186e+00]\n",
      " [ 1.58755528e+00]\n",
      " [ 6.75737474e-01]\n",
      " [ 1.57856049e-01]\n",
      " [-5.61065933e-01]\n",
      " [-1.18978135e-01]\n",
      " [-1.29118411e-01]\n",
      " [-9.94365375e-01]\n",
      " [-8.40264429e-02]\n",
      " [-1.10568279e-01]\n",
      " [-5.87310016e-01]\n",
      " [-5.69415623e-01]\n",
      " [-1.05748498e+00]\n",
      " [-1.38782318e+00]\n",
      " [ 4.12378420e-01]\n",
      " [ 5.06159978e-01]\n",
      " [ 3.15705243e-01]\n",
      " [ 1.12582978e+00]\n",
      " [ 1.11545059e+00]\n",
      " [ 3.71467964e-01]\n",
      " [ 4.90772398e-01]\n",
      " [-1.89636071e-01]\n",
      " [-9.33948150e-01]\n",
      " [ 3.40494123e-01]\n",
      " [-6.30393104e-01]\n",
      " [ 6.96058235e-01]\n",
      " [ 3.06203399e-01]]\n"
     ]
    }
   ],
   "source": [
    "#PCA降维，将二维的hotel降维至一维\n",
    "\n",
    "from sklearn.decomposition import PCA\n",
    "pca = PCA(n_components = 1)\n",
    "pca.fit(hotel_scale_3_df)\n",
    "new_hotel = pca.fit_transform(hotel_scale_3)\n",
    "print(pca.explained_variance_ratio_)\n",
    "print(new_hotel)\n",
    "#重构\n",
    "reconMat = pca.inverse_transform(new_hotel)"
   ]
  },
  {
   "cell_type": "code",
   "execution_count": 23,
   "id": "6b6a6547-a4ad-45c7-bb8e-5ec49ef48d77",
   "metadata": {},
   "outputs": [
    {
     "data": {
      "text/plain": [
       "<matplotlib.collections.PathCollection at 0x2538c210a30>"
      ]
     },
     "execution_count": 23,
     "metadata": {},
     "output_type": "execute_result"
    },
    {
     "data": {
      "image/png": "[encoded data removed]",
      "text/plain": [
       "<Figure size 432x288 with 1 Axes>"
      ]
     },
     "metadata": {
      "needs_background": "light"
     },
     "output_type": "display_data"
    }
   ],
   "source": [
    "plt.scatter(hotel_scale_3[:, :-1], hotel_scale_3[:, -1])\n",
    "plt.scatter(reconMat[:,0], reconMat[:,1], alpha=0.8,color = 'red')"
   ]
  },
  {
   "cell_type": "code",
   "execution_count": null,
   "id": "47fc6200-4ec7-4522-93d6-6db4b69da26f",
   "metadata": {},
   "outputs": [],
   "source": []
  }
 ],
 "metadata": {
  "kernelspec": {
   "display_name": "Python 3",
   "language": "python",
   "name": "python3"
  },
  "language_info": {
   "codemirror_mode": {
    "name": "ipython",
    "version": 3
   },
   "file_extension": ".py",
   "mimetype": "text/x-python",
   "name": "python",
   "nbconvert_exporter": "python",
   "pygments_lexer": "ipython3",
   "version": "3.8.8"
  }
 },
 "nbformat": 4,
 "nbformat_minor": 5
}
