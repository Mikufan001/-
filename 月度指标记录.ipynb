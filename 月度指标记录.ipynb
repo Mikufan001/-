{
 "cells": [
  {
   "cell_type": "code",
   "execution_count": 1,
   "id": "f9a0850c-12d5-42c1-bb16-addfed5abc3d",
   "metadata": {},
   "outputs": [],
   "source": [
    "import pandas as pd\n",
    "import numpy as np\n",
    "import matplotlib.pyplot as plt"
   ]
  },
  {
   "cell_type": "code",
   "execution_count": 2,
   "id": "9591c25d-db45-43f3-9de6-1c3beaa9efe5",
   "metadata": {},
   "outputs": [],
   "source": [
    "#提取数据集\n",
    "url = 'G:\\DownLoad\\data\\monthly_index.csv'\n",
    "df_month = pd.read_csv(url)"
   ]
  },
  {
   "cell_type": "code",
   "execution_count": 3,
   "id": "b97bf235-f566-4d20-a5fd-b512242a259d",
   "metadata": {},
   "outputs": [
    {
     "data": {
      "text/html": [
       "<div>\n",
       "<style scoped>\n",
       "    .dataframe tbody tr th:only-of-type {\n",
       "        vertical-align: middle;\n",
       "    }\n",
       "\n",
       "    .dataframe tbody tr th {\n",
       "        vertical-align: top;\n",
       "    }\n",
       "\n",
       "    .dataframe thead th {\n",
       "        text-align: right;\n",
       "    }\n",
       "</style>\n",
       "<table border=\"1\" class=\"dataframe\">\n",
       "  <thead>\n",
       "    <tr style=\"text-align: right;\">\n",
       "      <th></th>\n",
       "      <th>year_month</th>\n",
       "      <th>sales_amount</th>\n",
       "      <th>customer_number</th>\n",
       "    </tr>\n",
       "  </thead>\n",
       "  <tbody>\n",
       "    <tr>\n",
       "      <th>0</th>\n",
       "      <td>2010-01</td>\n",
       "      <td>7191240</td>\n",
       "      <td>6885</td>\n",
       "    </tr>\n",
       "    <tr>\n",
       "      <th>1</th>\n",
       "      <td>2010-02</td>\n",
       "      <td>6253663</td>\n",
       "      <td>6824</td>\n",
       "    </tr>\n",
       "    <tr>\n",
       "      <th>2</th>\n",
       "      <td>2010-03</td>\n",
       "      <td>6868320</td>\n",
       "      <td>7834</td>\n",
       "    </tr>\n",
       "    <tr>\n",
       "      <th>3</th>\n",
       "      <td>2010-04</td>\n",
       "      <td>7147388</td>\n",
       "      <td>8552</td>\n",
       "    </tr>\n",
       "  </tbody>\n",
       "</table>\n",
       "</div>"
      ],
      "text/plain": [
       "  year_month  sales_amount  customer_number\n",
       "0    2010-01       7191240             6885\n",
       "1    2010-02       6253663             6824\n",
       "2    2010-03       6868320             7834\n",
       "3    2010-04       7147388             8552"
      ]
     },
     "execution_count": 3,
     "metadata": {},
     "output_type": "execute_result"
    }
   ],
   "source": [
    "#查看数据集\n",
    "df_month.head(4)"
   ]
  },
  {
   "cell_type": "code",
   "execution_count": 4,
   "id": "4bd83e9d-c3ae-49e8-9750-57b797312c0f",
   "metadata": {
    "tags": []
   },
   "outputs": [
    {
     "data": {
      "text/html": [
       "<div>\n",
       "<style scoped>\n",
       "    .dataframe tbody tr th:only-of-type {\n",
       "        vertical-align: middle;\n",
       "    }\n",
       "\n",
       "    .dataframe tbody tr th {\n",
       "        vertical-align: top;\n",
       "    }\n",
       "\n",
       "    .dataframe thead th {\n",
       "        text-align: right;\n",
       "    }\n",
       "</style>\n",
       "<table border=\"1\" class=\"dataframe\">\n",
       "  <thead>\n",
       "    <tr style=\"text-align: right;\">\n",
       "      <th></th>\n",
       "      <th>sales_amount</th>\n",
       "      <th>customer_number</th>\n",
       "    </tr>\n",
       "  </thead>\n",
       "  <tbody>\n",
       "    <tr>\n",
       "      <th>count</th>\n",
       "      <td>1.200000e+02</td>\n",
       "      <td>120.000000</td>\n",
       "    </tr>\n",
       "    <tr>\n",
       "      <th>mean</th>\n",
       "      <td>4.802592e+07</td>\n",
       "      <td>48541.266667</td>\n",
       "    </tr>\n",
       "    <tr>\n",
       "      <th>std</th>\n",
       "      <td>2.648395e+07</td>\n",
       "      <td>27007.513516</td>\n",
       "    </tr>\n",
       "    <tr>\n",
       "      <th>min</th>\n",
       "      <td>6.253663e+06</td>\n",
       "      <td>6824.000000</td>\n",
       "    </tr>\n",
       "    <tr>\n",
       "      <th>25%</th>\n",
       "      <td>2.500194e+07</td>\n",
       "      <td>24536.250000</td>\n",
       "    </tr>\n",
       "    <tr>\n",
       "      <th>50%</th>\n",
       "      <td>4.976176e+07</td>\n",
       "      <td>46641.500000</td>\n",
       "    </tr>\n",
       "    <tr>\n",
       "      <th>75%</th>\n",
       "      <td>7.047537e+07</td>\n",
       "      <td>73276.500000</td>\n",
       "    </tr>\n",
       "    <tr>\n",
       "      <th>max</th>\n",
       "      <td>1.044011e+08</td>\n",
       "      <td>99507.000000</td>\n",
       "    </tr>\n",
       "  </tbody>\n",
       "</table>\n",
       "</div>"
      ],
      "text/plain": [
       "       sales_amount  customer_number\n",
       "count  1.200000e+02       120.000000\n",
       "mean   4.802592e+07     48541.266667\n",
       "std    2.648395e+07     27007.513516\n",
       "min    6.253663e+06      6824.000000\n",
       "25%    2.500194e+07     24536.250000\n",
       "50%    4.976176e+07     46641.500000\n",
       "75%    7.047537e+07     73276.500000\n",
       "max    1.044011e+08     99507.000000"
      ]
     },
     "execution_count": 4,
     "metadata": {},
     "output_type": "execute_result"
    }
   ],
   "source": [
    "#将字符串转换为日期datetime类型的数据\n",
    "df_month['year_month'] = df_month['year_month'].astype(str)\n",
    "df_month['time'] = pd.to_datetime(df_month['year_month'],format='%Y-%m')\n",
    "#查看数据统计量\n",
    "df_month.describe()"
   ]
  },
  {
   "cell_type": "code",
   "execution_count": 5,
   "id": "2682265a-f98a-4aaf-b4bf-758bce22e234",
   "metadata": {},
   "outputs": [
    {
     "data": {
      "text/html": [
       "<div>\n",
       "<style scoped>\n",
       "    .dataframe tbody tr th:only-of-type {\n",
       "        vertical-align: middle;\n",
       "    }\n",
       "\n",
       "    .dataframe tbody tr th {\n",
       "        vertical-align: top;\n",
       "    }\n",
       "\n",
       "    .dataframe thead th {\n",
       "        text-align: right;\n",
       "    }\n",
       "</style>\n",
       "<table border=\"1\" class=\"dataframe\">\n",
       "  <thead>\n",
       "    <tr style=\"text-align: right;\">\n",
       "      <th></th>\n",
       "      <th>year_month</th>\n",
       "      <th>sales_amount</th>\n",
       "      <th>customer_number</th>\n",
       "      <th>time</th>\n",
       "    </tr>\n",
       "  </thead>\n",
       "  <tbody>\n",
       "    <tr>\n",
       "      <th>0</th>\n",
       "      <td>2010-01</td>\n",
       "      <td>7191240</td>\n",
       "      <td>6885</td>\n",
       "      <td>2010-01-01</td>\n",
       "    </tr>\n",
       "    <tr>\n",
       "      <th>1</th>\n",
       "      <td>2010-02</td>\n",
       "      <td>6253663</td>\n",
       "      <td>6824</td>\n",
       "      <td>2010-02-01</td>\n",
       "    </tr>\n",
       "    <tr>\n",
       "      <th>2</th>\n",
       "      <td>2010-03</td>\n",
       "      <td>6868320</td>\n",
       "      <td>7834</td>\n",
       "      <td>2010-03-01</td>\n",
       "    </tr>\n",
       "    <tr>\n",
       "      <th>3</th>\n",
       "      <td>2010-04</td>\n",
       "      <td>7147388</td>\n",
       "      <td>8552</td>\n",
       "      <td>2010-04-01</td>\n",
       "    </tr>\n",
       "  </tbody>\n",
       "</table>\n",
       "</div>"
      ],
      "text/plain": [
       "  year_month  sales_amount  customer_number       time\n",
       "0    2010-01       7191240             6885 2010-01-01\n",
       "1    2010-02       6253663             6824 2010-02-01\n",
       "2    2010-03       6868320             7834 2010-03-01\n",
       "3    2010-04       7147388             8552 2010-04-01"
      ]
     },
     "execution_count": 5,
     "metadata": {},
     "output_type": "execute_result"
    }
   ],
   "source": [
    "df_month.head(4)"
   ]
  },
  {
   "cell_type": "code",
   "execution_count": 6,
   "id": "9e844f22-30d0-4f27-8346-f4fdc8910bcd",
   "metadata": {},
   "outputs": [
    {
     "name": "stdout",
     "output_type": "stream",
     "text": [
      "year_month         False\n",
      "sales_amount       False\n",
      "customer_number    False\n",
      "time               False\n",
      "dtype: bool \n",
      "\n",
      "Empty DataFrame\n",
      "Columns: [year_month, sales_amount, customer_number, time]\n",
      "Index: []\n"
     ]
    }
   ],
   "source": [
    "#查看df_month中是否有缺失值\n",
    "print(df_month.isnull().any(),'\\n')\n",
    "#显示有缺失值的地方\n",
    "print(df_month[df_month.isnull().values==True])\n",
    "#全为false，说明没有缺失值"
   ]
  },
  {
   "cell_type": "code",
   "execution_count": 7,
   "id": "b2b26bdf-b55e-4351-9964-ec83197be27a",
   "metadata": {},
   "outputs": [
    {
     "data": {
      "text/plain": [
       "<matplotlib.collections.PathCollection at 0x2237d26d3d0>"
      ]
     },
     "execution_count": 7,
     "metadata": {},
     "output_type": "execute_result"
    },
    {
     "data": {
      "image/png": "[encoded data removed]",
      "text/plain": [
       "<Figure size 432x288 with 1 Axes>"
      ]
     },
     "metadata": {
      "needs_background": "light"
     },
     "output_type": "display_data"
    }
   ],
   "source": [
    "plt.scatter(df_month['customer_number'], df_month['sales_amount'], alpha=0.8)"
   ]
  },
  {
   "cell_type": "code",
   "execution_count": 8,
   "id": "82d43517-a6d0-4fa5-a4bc-472c2aed40fb",
   "metadata": {},
   "outputs": [
    {
     "name": "stdout",
     "output_type": "stream",
     "text": [
      "Empty DataFrame\n",
      "Columns: [year_month, sales_amount, customer_number, time]\n",
      "Index: []\n",
      "异常值共0条\n"
     ]
    }
   ],
   "source": [
    "#异常值\n",
    "s = df_month.describe()\n",
    "\n",
    "q1 = s.loc['25%'][0]\n",
    "q3 = s.loc['75%'][0]\n",
    "iqr = q3 - q1\n",
    "mi = q1 - 1.5 * iqr\n",
    "ma = q3 + 1.5 * iqr\n",
    "error = df_month[(df_month['customer_number'] < mi) | (df_month['customer_number'] > ma)]\n",
    "print(error)\n",
    "print('异常值共%i条' % len(error))"
   ]
  },
  {
   "cell_type": "code",
   "execution_count": 9,
   "id": "d902a720-21b9-4f4c-bd0e-99f4f0d391f5",
   "metadata": {},
   "outputs": [
    {
     "name": "stdout",
     "output_type": "stream",
     "text": [
      "     customer_number  sales_amount\n",
      "0          -1.548863     -1.548330\n",
      "1          -1.551131     -1.583880\n",
      "2          -1.513577     -1.560574\n",
      "3          -1.486880     -1.549993\n",
      "4          -1.501047     -1.489002\n",
      "..               ...           ...\n",
      "115         1.803986      1.232412\n",
      "116         1.413612      1.598799\n",
      "117         1.895007      1.809554\n",
      "118         1.363602      1.477706\n",
      "119         1.676117      2.137579\n",
      "\n",
      "[120 rows x 2 columns]\n"
     ]
    },
    {
     "data": {
      "text/plain": [
       "<matplotlib.collections.PathCollection at 0x2237da3d1f0>"
      ]
     },
     "execution_count": 9,
     "metadata": {},
     "output_type": "execute_result"
    },
    {
     "data": {
      "image/png": "[encoded data removed]",
      "text/plain": [
       "<Figure size 432x288 with 1 Axes>"
      ]
     },
     "metadata": {
      "needs_background": "light"
     },
     "output_type": "display_data"
    }
   ],
   "source": [
    "#选择用Z-score将数据标准化\n",
    "\n",
    "def ZscoreNormalization(x):\n",
    "    x = (x - np.mean(x))/np.std(x)\n",
    "    return x\n",
    "\n",
    "Z_views = pd.DataFrame()\n",
    "Z_views['customer_number'] = ZscoreNormalization(df_month['customer_number'])\n",
    "Z_views['sales_amount'] = ZscoreNormalization(df_month['sales_amount'])\n",
    "print(Z_views)\n",
    "plt.scatter(Z_views['customer_number'], Z_views['sales_amount'], alpha=0.8)"
   ]
  },
  {
   "cell_type": "code",
   "execution_count": 10,
   "id": "707de9e2-f31a-423a-b3d2-0d50a64762cc",
   "metadata": {
    "collapsed": true,
    "jupyter": {
     "outputs_hidden": true
    },
    "tags": []
   },
   "outputs": [
    {
     "name": "stdout",
     "output_type": "stream",
     "text": [
      "[0.98763445]\n",
      "[[-2.19004581]\n",
      " [-2.21678734]\n",
      " [-2.17375298]\n",
      " [-2.14739339]\n",
      " [-2.11428328]\n",
      " [-2.10472292]\n",
      " [-2.03235018]\n",
      " [-1.93617195]\n",
      " [-2.00335365]\n",
      " [-2.04890651]\n",
      " [-1.80022473]\n",
      " [-1.96340948]\n",
      " [-1.82879824]\n",
      " [-1.80012198]\n",
      " [-1.80245453]\n",
      " [-1.74736698]\n",
      " [-1.85791989]\n",
      " [-1.81036624]\n",
      " [-1.52122921]\n",
      " [-1.55079272]\n",
      " [-1.73849322]\n",
      " [-1.52193274]\n",
      " [-1.56143431]\n",
      " [-1.46555897]\n",
      " [-1.54412008]\n",
      " [-1.30602896]\n",
      " [-1.40219721]\n",
      " [-1.2500704 ]\n",
      " [-1.32069155]\n",
      " [-1.38375587]\n",
      " [-1.31642716]\n",
      " [-1.06665527]\n",
      " [-1.04909868]\n",
      " [-1.25199522]\n",
      " [-1.08118904]\n",
      " [-1.04769633]\n",
      " [-1.04830665]\n",
      " [-1.05444853]\n",
      " [-0.92762852]\n",
      " [-0.94707778]\n",
      " [-0.73988459]\n",
      " [-0.93221762]\n",
      " [-0.77918503]\n",
      " [-0.90953335]\n",
      " [-0.63623815]\n",
      " [-0.86243677]\n",
      " [-0.4896952 ]\n",
      " [-0.75180486]\n",
      " [-0.62276909]\n",
      " [-0.5061304 ]\n",
      " [-0.74981537]\n",
      " [-0.30021878]\n",
      " [-0.04676762]\n",
      " [-0.17248556]\n",
      " [-0.37212152]\n",
      " [ 0.01006496]\n",
      " [-0.29087182]\n",
      " [-0.24380447]\n",
      " [-0.31832951]\n",
      " [ 0.09218762]\n",
      " [ 0.0176855 ]\n",
      " [ 0.2540575 ]\n",
      " [ 0.04947054]\n",
      " [-0.03381808]\n",
      " [ 0.07137692]\n",
      " [ 0.07379089]\n",
      " [ 0.24576874]\n",
      " [ 0.82280185]\n",
      " [ 0.51442381]\n",
      " [ 0.39486044]\n",
      " [ 0.46447975]\n",
      " [ 0.31305048]\n",
      " [ 0.37650193]\n",
      " [ 0.36442714]\n",
      " [ 1.26403899]\n",
      " [ 0.77028323]\n",
      " [ 0.39931189]\n",
      " [ 0.45911009]\n",
      " [ 0.86715434]\n",
      " [ 0.68835816]\n",
      " [ 0.67978256]\n",
      " [ 0.87615873]\n",
      " [ 0.83437524]\n",
      " [ 1.216564  ]\n",
      " [ 1.19649839]\n",
      " [ 0.54588275]\n",
      " [ 1.1020731 ]\n",
      " [ 1.50149534]\n",
      " [ 1.24842669]\n",
      " [ 0.83292803]\n",
      " [ 1.82925153]\n",
      " [ 1.36049304]\n",
      " [ 1.49460783]\n",
      " [ 1.20027452]\n",
      " [ 1.87432137]\n",
      " [ 1.65468845]\n",
      " [ 1.21452552]\n",
      " [ 1.71917576]\n",
      " [ 1.32553422]\n",
      " [ 1.73231805]\n",
      " [ 1.50269595]\n",
      " [ 2.12588549]\n",
      " [ 1.88752673]\n",
      " [ 2.4514408 ]\n",
      " [ 1.55768165]\n",
      " [ 2.26623063]\n",
      " [ 1.68315152]\n",
      " [ 1.53882257]\n",
      " [ 1.78439991]\n",
      " [ 1.67191036]\n",
      " [ 1.77194578]\n",
      " [ 1.88677968]\n",
      " [ 2.28363921]\n",
      " [ 1.778813  ]\n",
      " [ 1.94741103]\n",
      " [ 2.14705754]\n",
      " [ 2.13009643]\n",
      " [ 2.61951997]\n",
      " [ 2.00910802]\n",
      " [ 2.69669017]]\n"
     ]
    }
   ],
   "source": [
    "#PCA降维\n",
    "from sklearn.decomposition import PCA\n",
    "pca = PCA(n_components = 1)\n",
    "pca.fit(Z_views)\n",
    "new_month = pca.fit_transform(Z_views)\n",
    "print(pca.explained_variance_ratio_)\n",
    "#重构\n",
    "reconMat = pca.inverse_transform(new_month)\n",
    "print(new_month)\n",
    "\n",
    "#print(new_month)\n",
    "\n"
   ]
  },
  {
   "cell_type": "code",
   "execution_count": 11,
   "id": "058423d1-2a89-44f2-bc9b-0e4516bdfe70",
   "metadata": {},
   "outputs": [
    {
     "data": {
      "text/plain": [
       "<matplotlib.collections.PathCollection at 0x2230001cd60>"
      ]
     },
     "execution_count": 11,
     "metadata": {},
     "output_type": "execute_result"
    },
    {
     "data": {
      "image/png": "[encoded data removed]",
      "text/plain": [
       "<Figure size 432x288 with 1 Axes>"
      ]
     },
     "metadata": {
      "needs_background": "light"
     },
     "output_type": "display_data"
    }
   ],
   "source": [
    "plt.scatter(Z_views['customer_number'], Z_views['sales_amount'], alpha=0.8)\n",
    "plt.scatter(reconMat[:,0], reconMat[:,1], alpha=0.8,color = 'red')"
   ]
  },
  {
   "cell_type": "code",
   "execution_count": null,
   "id": "bf864234-e866-40b0-8ebd-a1e00447ea79",
   "metadata": {},
   "outputs": [],
   "source": []
  }
 ],
 "metadata": {
  "kernelspec": {
   "display_name": "Python 3",
   "language": "python",
   "name": "python3"
  },
  "language_info": {
   "codemirror_mode": {
    "name": "ipython",
    "version": 3
   },
   "file_extension": ".py",
   "mimetype": "text/x-python",
   "name": "python",
   "nbconvert_exporter": "python",
   "pygments_lexer": "ipython3",
   "version": "3.8.8"
  }
 },
 "nbformat": 4,
 "nbformat_minor": 5
}
